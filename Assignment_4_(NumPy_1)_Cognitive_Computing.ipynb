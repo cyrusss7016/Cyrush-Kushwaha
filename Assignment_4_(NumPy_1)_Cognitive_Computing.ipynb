{
  "cells": [
    {
      "cell_type": "markdown",
      "source": [
        "Q.1 Write a program to create a NumPy 1D-array with 5 elements and perform basic\n",
        "operations like:\n",
        "a) Addition of 2 in all the element\n",
        "b) Multiply 3 with all the elements\n",
        "c) Divide every element by 2"
      ],
      "metadata": {
        "id": "W_-JHXgk1DhY"
      }
    },
    {
      "cell_type": "code",
      "source": [
        "import numpy as np\n",
        "\n",
        "arr = np.array([10, 20, 30, 40, 50])\n",
        "print(\"Original Array:\", arr)\n",
        "\n",
        "arr_add = arr + 2\n",
        "print(\"After Addition (+2):\", arr_add)\n",
        "\n",
        "arr_multiply = arr * 3\n",
        "print(\"After Multiplication (*3):\", arr_multiply)\n",
        "\n",
        "arr_divide = arr / 2\n",
        "print(\"After Division (/2):\", arr_divide)\n"
      ],
      "metadata": {
        "id": "B-guzPPV1NKR",
        "outputId": "7ea47758-cf22-4542-ed18-292b300dc9cb",
        "colab": {
          "base_uri": "https://localhost:8080/"
        }
      },
      "execution_count": null,
      "outputs": [
        {
          "output_type": "stream",
          "name": "stdout",
          "text": [
            "Original Array: [10 20 30 40 50]\n",
            "After Addition (+2): [12 22 32 42 52]\n",
            "After Multiplication (*3): [ 30  60  90 120 150]\n",
            "After Division (/2): [ 5. 10. 15. 20. 25.]\n"
          ]
        }
      ]
    },
    {
      "cell_type": "markdown",
      "source": [
        "Q.2 Questions on Basic NumPy Array:\n",
        "a) Reverse the NumPy array: arr = np.array([1, 2, 3, 6, 4, 5])"
      ],
      "metadata": {
        "id": "9ohVGtWJ1lml"
      }
    },
    {
      "cell_type": "code",
      "source": [
        "import numpy as np\n",
        "\n",
        "arr = np.array([1, 2, 3, 6, 4, 5])\n",
        "print(\"Original Array:\", arr)\n",
        "\n",
        "arr_reversed = arr[::-1]\n",
        "print(\"Reversed Array:\", arr_reversed)\n"
      ],
      "metadata": {
        "id": "UbeNR2601wiQ",
        "outputId": "f08a3731-7563-44d7-f8dc-e5e0046a1732",
        "colab": {
          "base_uri": "https://localhost:8080/"
        }
      },
      "execution_count": null,
      "outputs": [
        {
          "output_type": "stream",
          "name": "stdout",
          "text": [
            "Original Array: [1 2 3 6 4 5]\n",
            "Reversed Array: [5 4 6 3 2 1]\n"
          ]
        }
      ]
    },
    {
      "cell_type": "markdown",
      "source": [
        "b) Find the most frequent value and their indice(s) in the following arrays:\n",
        "i. x = np.array([1,2,3,4,5,1,2,1,1,1])\n",
        "ii. y = np.array([1, 1, 1, 2, 3, 4, 2, 4, 3, 3, ])"
      ],
      "metadata": {
        "id": "jcwHPwd72FIt"
      }
    },
    {
      "cell_type": "code",
      "source": [
        "import numpy as np\n",
        "\n",
        "def most_frequent(arr):\n",
        "    \"\"\"Find the most frequent value and its indices in a NumPy array\"\"\"\n",
        "    values, counts = np.unique(arr, return_counts=True)\n",
        "    max_count_index = np.argmax(counts)\n",
        "    most_frequent_value = values[max_count_index]\n",
        "    indices = np.where(arr == most_frequent_value)[0]\n",
        "\n",
        "    return most_frequent_value, indices\n",
        "\n",
        "x = np.array([1, 2, 3, 4, 5, 1, 2, 1, 1, 1])\n",
        "y = np.array([1, 1, 1, 2, 3, 4, 2, 4, 3, 3])\n",
        "\n",
        "value_x, indices_x = most_frequent(x)\n",
        "value_y, indices_y = most_frequent(y)\n",
        "\n",
        "print(\"For array x:\", x)\n",
        "print(f\"Most frequent value: {value_x}, Indices: {indices_x}\")\n",
        "\n",
        "print(\"\\nFor array y:\", y)\n",
        "print(f\"Most frequent value: {value_y}, Indices: {indices_y}\")\n"
      ],
      "metadata": {
        "id": "yAMjNUfj2QJm",
        "outputId": "cc04d9bf-8651-4d55-80b2-6c9db4e3686a",
        "colab": {
          "base_uri": "https://localhost:8080/"
        }
      },
      "execution_count": null,
      "outputs": [
        {
          "output_type": "stream",
          "name": "stdout",
          "text": [
            "For array x: [1 2 3 4 5 1 2 1 1 1]\n",
            "Most frequent value: 1, Indices: [0 5 7 8 9]\n",
            "\n",
            "For array y: [1 1 1 2 3 4 2 4 3 3]\n",
            "Most frequent value: 1, Indices: [0 1 2]\n"
          ]
        }
      ]
    },
    {
      "cell_type": "markdown",
      "source": [
        "Q.3 For the given 2-D array arr=np.array([10, 20, 30], [40, 50, 60], [70, 80, 90]), access\n",
        "elements using row and column indices as follows:\n",
        "a) Access 1st row, 2nd column\n",
        "b) Access 3rd row, 1st column"
      ],
      "metadata": {
        "id": "X5FRc9Cz2o3Q"
      }
    },
    {
      "cell_type": "code",
      "source": [
        "import numpy as np\n",
        "\n",
        "arr = np.array([[10, 20, 30],\n",
        "                [40, 50, 60],\n",
        "                [70, 80, 90]])\n",
        "\n",
        "element1 = arr[0, 1]\n",
        "\n",
        "element2 = arr[2, 0]\n",
        "\n",
        "print(\"Element at 1st row, 2nd column:\", element1)\n",
        "print(\"Element at 3rd row, 1st column:\", element2)\n"
      ],
      "metadata": {
        "id": "kQRyWBiw2w0I",
        "outputId": "e377b2cd-75ac-4967-f2e4-59806478e7ac",
        "colab": {
          "base_uri": "https://localhost:8080/"
        }
      },
      "execution_count": null,
      "outputs": [
        {
          "output_type": "stream",
          "name": "stdout",
          "text": [
            "Element at 1st row, 2nd column: 20\n",
            "Element at 3rd row, 1st column: 70\n"
          ]
        }
      ]
    },
    {
      "cell_type": "markdown",
      "source": [
        "Q.4 Write program to create an 1-D NumPy array named <<Your Name>> with evenly\n",
        "spaced 25 numbers from 10 to 100 using linspace(). Print the dimensions of the array,\n",
        "shape, total elements, the data type of each element and total number of bytes consumed\n",
        "by the array. Find the transpose of this array using reshape() attribute. Can we do the same\n",
        "with T attribute?"
      ],
      "metadata": {
        "id": "pMa0unCD4DmK"
      }
    },
    {
      "cell_type": "code",
      "source": [
        "import numpy as np\n",
        "\n",
        "Cyrush = np.linspace(10, 100, 25)\n",
        "\n",
        "print(f\"Dimensions of the array: {Cyrush.ndim}\")\n",
        "\n",
        "print(f\"Shape of the array: {Cyrush.shape}\")\n",
        "\n",
        "print(f\"Total number of elements in the array: {Cyrush.size}\")\n",
        "\n",
        "print(f\"Data type of each element in the array: {Cyrush.dtype}\")\n",
        "\n",
        "print(f\"Total number of bytes consumed by the array: {Cyrush.nbytes}\")\n",
        "\n",
        "reshaped_array = Cyrush.reshape(-1, 1)\n",
        "print(f\"Reshaped array (Transpose using reshape()):\\n{reshaped_array}\")\n",
        "\n",
        "transpose_array = Cyrush[:, np.newaxis]\n",
        "print(f\"Transpose using T attribute:\\n{transpose_array}\")\n"
      ],
      "metadata": {
        "id": "N9utEnq-4MVL",
        "outputId": "fc31d561-a6be-47b9-9869-e7389e631b96",
        "colab": {
          "base_uri": "https://localhost:8080/"
        }
      },
      "execution_count": null,
      "outputs": [
        {
          "output_type": "stream",
          "name": "stdout",
          "text": [
            "Dimensions of the array: 1\n",
            "Shape of the array: (25,)\n",
            "Total number of elements in the array: 25\n",
            "Data type of each element in the array: float64\n",
            "Total number of bytes consumed by the array: 200\n",
            "Reshaped array (Transpose using reshape()):\n",
            "[[ 10.  ]\n",
            " [ 13.75]\n",
            " [ 17.5 ]\n",
            " [ 21.25]\n",
            " [ 25.  ]\n",
            " [ 28.75]\n",
            " [ 32.5 ]\n",
            " [ 36.25]\n",
            " [ 40.  ]\n",
            " [ 43.75]\n",
            " [ 47.5 ]\n",
            " [ 51.25]\n",
            " [ 55.  ]\n",
            " [ 58.75]\n",
            " [ 62.5 ]\n",
            " [ 66.25]\n",
            " [ 70.  ]\n",
            " [ 73.75]\n",
            " [ 77.5 ]\n",
            " [ 81.25]\n",
            " [ 85.  ]\n",
            " [ 88.75]\n",
            " [ 92.5 ]\n",
            " [ 96.25]\n",
            " [100.  ]]\n",
            "Transpose using T attribute:\n",
            "[[ 10.  ]\n",
            " [ 13.75]\n",
            " [ 17.5 ]\n",
            " [ 21.25]\n",
            " [ 25.  ]\n",
            " [ 28.75]\n",
            " [ 32.5 ]\n",
            " [ 36.25]\n",
            " [ 40.  ]\n",
            " [ 43.75]\n",
            " [ 47.5 ]\n",
            " [ 51.25]\n",
            " [ 55.  ]\n",
            " [ 58.75]\n",
            " [ 62.5 ]\n",
            " [ 66.25]\n",
            " [ 70.  ]\n",
            " [ 73.75]\n",
            " [ 77.5 ]\n",
            " [ 81.25]\n",
            " [ 85.  ]\n",
            " [ 88.75]\n",
            " [ 92.5 ]\n",
            " [ 96.25]\n",
            " [100.  ]]\n"
          ]
        }
      ]
    },
    {
      "cell_type": "markdown",
      "source": [
        "Q5. Create a 2-D Array of three rows and four columns, named ucs420_<your_name>>\n",
        "with following values – 10, 20, 30, 40, 50, 60, 70, 80, 90, 15, 20, 35. Compute the mean,\n",
        "median, max, min, unique elements. Reshape the array to four rows and three columns and\n",
        "name it as reshaped_ ucs420_<your_name>>. Resize the array to two rows and three\n",
        "columns and name it as resized_ ucs420_<your_name>>."
      ],
      "metadata": {
        "id": "WjOjB4FS5uMv"
      }
    },
    {
      "cell_type": "code",
      "source": [
        "import numpy as np\n",
        "\n",
        "ucs420_Cyrush = np.array([[10, 20, 30, 40],\n",
        "                          [50, 60, 70, 80],\n",
        "                          [90, 15, 20, 35]])\n",
        "\n",
        "mean_val = np.mean(ucs420_Cyrush)\n",
        "median_val = np.median(ucs420_Cyrush)\n",
        "max_val = np.max(ucs420_Cyrush)\n",
        "min_val = np.min(ucs420_Cyrush)\n",
        "unique_elements = np.unique(ucs420_Cyrush)\n",
        "\n",
        "print(f\"Mean: {mean_val}\")\n",
        "print(f\"Median: {median_val}\")\n",
        "print(f\"Max: {max_val}\")\n",
        "print(f\"Min: {min_val}\")\n",
        "print(f\"Unique elements: {unique_elements}\")\n",
        "\n",
        "reshaped_ucs420_Cyrush = ucs420_Cyrush.reshape(4, 3)\n",
        "print(f\"Reshaped array (4x3):\\n{reshaped_ucs420_Cyrush}\")\n",
        "\n",
        "resized_ucs420_Cyrush = ucs420_Cyrush.flatten()[:6].reshape(2, 3)\n",
        "print(f\"Resized array (2x3):\\n{resized_ucs420_Cyrush}\")\n"
      ],
      "metadata": {
        "id": "9FNK_pDk6N0m",
        "outputId": "b140ad19-12b3-4d94-c0ec-798fe071d0b4",
        "colab": {
          "base_uri": "https://localhost:8080/"
        }
      },
      "execution_count": null,
      "outputs": [
        {
          "output_type": "stream",
          "name": "stdout",
          "text": [
            "Mean: 43.333333333333336\n",
            "Median: 37.5\n",
            "Max: 90\n",
            "Min: 10\n",
            "Unique elements: [10 15 20 30 35 40 50 60 70 80 90]\n",
            "Reshaped array (4x3):\n",
            "[[10 20 30]\n",
            " [40 50 60]\n",
            " [70 80 90]\n",
            " [15 20 35]]\n",
            "Resized array (2x3):\n",
            "[[10 20 30]\n",
            " [40 50 60]]\n"
          ]
        }
      ]
    },
    {
      "cell_type": "markdown",
      "source": [],
      "metadata": {
        "id": "W3EfDlQ52zHv"
      }
    }
  ],
  "metadata": {
    "colab": {
      "toc_visible": true,
      "provenance": []
    },
    "kernelspec": {
      "display_name": "Python 3",
      "name": "python3"
    }
  },
  "nbformat": 4,
  "nbformat_minor": 0
}