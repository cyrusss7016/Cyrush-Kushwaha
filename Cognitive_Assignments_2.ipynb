{
  "cells": [
    {
      "cell_type": "markdown",
      "metadata": {
        "id": "view-in-github",
        "colab_type": "text"
      },
      "source": [
        "<a href=\"https://colab.research.google.com/github/cyrusss7016/Cyrush-Kushwaha/blob/main/Cognitive_Assignments_2.ipynb\" target=\"_parent\"><img src=\"https://colab.research.google.com/assets/colab-badge.svg\" alt=\"Open In Colab\"/></a>"
      ]
    },
    {
      "cell_type": "markdown",
      "source": [
        "Create a List L that is defined as= [10, 20, 30, 40, 50, 60, 70, 80]. i. WAP to add 200 and 300 to L. ii. WAP to remove 10 and 30 from L. iii. WAP to sort L in ascending order. iv. WAP to sort L in descending order."
      ],
      "metadata": {
        "id": "ygs7X_5VZe21"
      }
    },
    {
      "cell_type": "code",
      "source": [
        "L = [10,20,30,40,50,60,70,80]\n",
        "\n",
        "\n",
        "L.append(200)\n",
        "L.append(300)\n",
        "print(\"after adding 200 and 300\",L)\n",
        "\n",
        "\n",
        "L.remove(10)\n",
        "L.remove(30)\n",
        "print(\"after removing 10 and 30\",L)\n",
        "\n",
        "\n",
        "L.sort()\n",
        "print(\"after sorting L\",L)\n",
        "\n",
        "L.sort(reverse = True)\n",
        "print(\"after sorting in descending order\",L)"
      ],
      "metadata": {
        "id": "aAEdCtvjZn6a",
        "outputId": "ca24909e-776a-475d-f633-19d6cdad40bd",
        "colab": {
          "base_uri": "https://localhost:8080/"
        }
      },
      "execution_count": null,
      "outputs": [
        {
          "output_type": "stream",
          "name": "stdout",
          "text": [
            "after adding 200 and 300 [10, 20, 30, 40, 50, 60, 70, 80, 200, 300]\n",
            "after removing 10 and 30 [20, 40, 50, 60, 70, 80, 200, 300]\n",
            "after sorting L [20, 40, 50, 60, 70, 80, 200, 300]\n",
            "after sorting in descending order [300, 200, 80, 70, 60, 50, 40, 20]\n"
          ]
        }
      ]
    },
    {
      "cell_type": "markdown",
      "source": [
        "Create a tuple of marks scored as scores = (45, 89.5, 76, 45.4, 89, 92, 58, 45) and\n",
        "perform the following operations using tuple functions:\n",
        "i. Identify the highest score and its index in the tuple.\n",
        "ii. Find the lowest score and count how many times it appears.\n",
        "iii. Reverse the tuple and return it as a list.\n",
        "iv. Check if a specific score ‘76’ (input by the user) is present in the tuple and\n",
        "print its first occurrence index, or a message saying it’s not present."
      ],
      "metadata": {
        "id": "Sq5NjH9ZZrQi"
      }
    },
    {
      "cell_type": "code",
      "source": [
        "\n",
        "scores = (45, 89.5, 76, 45.4, 89, 92, 58, 45)\n",
        "\n",
        "\n",
        "highest_score = max(scores)\n",
        "highest_score_index = scores.index(highest_score)\n",
        "print(\"The highest score is: \", highest_score)\n",
        "print(\"The index of the highest score is: \", highest_score_index)\n",
        "\n",
        "lowest_score = min(scores)\n",
        "count_lowest_score = scores.count(lowest_score)\n",
        "print(\"The lowest score is: \", lowest_score)\n",
        "print(\"The count of the lowest score is: \", count_lowest_score)\n",
        "\n",
        "\n",
        "reversed_scores = list(scores[::-1])\n",
        "print(\"The reversed tuple is:\", reversed_scores)\n",
        "\n",
        "\n",
        "target_score = 76\n",
        "\n"
      ],
      "metadata": {
        "id": "4jyWFsw0Zu1_",
        "outputId": "102ea85a-efef-48af-d30e-bec57f7f213c",
        "colab": {
          "base_uri": "https://localhost:8080/",
          "height": 275
        }
      },
      "execution_count": null,
      "outputs": [
        {
          "output_type": "stream",
          "name": "stdout",
          "text": [
            "The highest score is:  92\n",
            "The index of the highest score is:  5\n",
            "The lowest score is:  45\n",
            "The count of the lowest score is:  2\n"
          ]
        },
        {
          "output_type": "error",
          "ename": "TypeError",
          "evalue": "'list' object is not callable",
          "traceback": [
            "\u001b[0;31m---------------------------------------------------------------------------\u001b[0m",
            "\u001b[0;31mTypeError\u001b[0m                                 Traceback (most recent call last)",
            "\u001b[0;32m<ipython-input-60-32fe6b4d24d2>\u001b[0m in \u001b[0;36m<cell line: 0>\u001b[0;34m()\u001b[0m\n\u001b[1;32m     13\u001b[0m \u001b[0;34m\u001b[0m\u001b[0m\n\u001b[1;32m     14\u001b[0m \u001b[0;34m\u001b[0m\u001b[0m\n\u001b[0;32m---> 15\u001b[0;31m \u001b[0mreversed_scores\u001b[0m \u001b[0;34m=\u001b[0m \u001b[0mlist\u001b[0m\u001b[0;34m(\u001b[0m\u001b[0mscores\u001b[0m\u001b[0;34m[\u001b[0m\u001b[0;34m:\u001b[0m\u001b[0;34m:\u001b[0m\u001b[0;34m-\u001b[0m\u001b[0;36m1\u001b[0m\u001b[0;34m]\u001b[0m\u001b[0;34m)\u001b[0m\u001b[0;34m\u001b[0m\u001b[0;34m\u001b[0m\u001b[0m\n\u001b[0m\u001b[1;32m     16\u001b[0m \u001b[0mprint\u001b[0m\u001b[0;34m(\u001b[0m\u001b[0;34m\"The reversed tuple is:\"\u001b[0m\u001b[0;34m,\u001b[0m \u001b[0mreversed_scores\u001b[0m\u001b[0;34m)\u001b[0m\u001b[0;34m\u001b[0m\u001b[0;34m\u001b[0m\u001b[0m\n\u001b[1;32m     17\u001b[0m \u001b[0;34m\u001b[0m\u001b[0m\n",
            "\u001b[0;31mTypeError\u001b[0m: 'list' object is not callable"
          ]
        }
      ]
    },
    {
      "cell_type": "markdown",
      "source": [
        "WAP to create a list of 100 random numbers between 100 and 900. Count and print\n",
        "the:\n",
        "i. All odd numbers\n",
        "ii. All even numbers\n",
        "iii. All prime numbers"
      ],
      "metadata": {
        "id": "4zMIZaM-aBLo"
      }
    },
    {
      "cell_type": "code",
      "source": [
        "import random\n",
        "\n",
        "numbers = [random.randint(100,900) for _ in range(100)]\n",
        "\n",
        "\n",
        "def is_prime(n):\n",
        "  if n<= 1:\n",
        "    return False\n",
        "  for i in range(2,int(n**0.5)+1):\n",
        "    if n % i ==0:\n",
        "      return False\n",
        "  return True\n",
        "\n",
        "\n",
        "odd_numbers = []\n",
        "even_numbers = []\n",
        "prime_numbers = []\n",
        "\n",
        "for num in numbers:\n",
        "  if num % 2 == 0:\n",
        "    even_numbers.append(num)\n",
        "  else:\n",
        "    odd_numbers.append(num)\n",
        "\n",
        "  if is_prime(num):\n",
        "    prime_numbers.append(num)\n",
        "\n",
        "print(\"list of random numbers:\",numbers)\n",
        "print(\"even numbers :\",even_numbers)\n",
        "print(\"count of even numbers\",len(even_numbers))\n",
        "print(\"odd numbers : \", odd_numbers)\n",
        "print(\"count of odd numbers: \",len(odd_numbers))\n",
        "print(\"prime numbers : \",prime_numbers)\n",
        "print(\"count of prime numbers\",len(prime_numbers))\n",
        "\n"
      ],
      "metadata": {
        "id": "NhMg-krnZxZw",
        "outputId": "c2e99f20-d168-4225-f616-dc3a8f3d796f",
        "colab": {
          "base_uri": "https://localhost:8080/",
          "height": 261
        }
      },
      "execution_count": null,
      "outputs": [
        {
          "output_type": "stream",
          "name": "stdout",
          "text": [
            "list of random numbers: [221, 617, 757, 347, 117, 591, 296, 643, 390, 477, 900, 745, 425, 612, 395, 422, 722, 606, 565, 767, 600, 687, 553, 490, 107, 535, 371, 818, 111, 278, 469, 777, 197, 363, 740, 669, 390, 876, 791, 869, 801, 166, 122, 559, 510, 423, 770, 744, 603, 436, 802, 690, 771, 879, 642, 351, 767, 339, 835, 342, 858, 354, 874, 155, 853, 367, 306, 108, 125, 451, 482, 800, 631, 746, 121, 280, 631, 207, 883, 370, 652, 852, 271, 191, 402, 495, 332, 425, 273, 830, 136, 543, 299, 833, 878, 290, 272, 800, 189, 599]\n",
            "even numbers : [296, 390, 900, 612, 422, 722, 606, 600, 490, 818, 278, 740, 390, 876, 166, 122, 510, 770, 744, 436, 802, 690, 642, 342, 858, 354, 874, 306, 108, 482, 800, 746, 280, 370, 652, 852, 402, 332, 830, 136, 878, 290, 272, 800]\n"
          ]
        },
        {
          "output_type": "error",
          "ename": "TypeError",
          "evalue": "'int' object is not callable",
          "traceback": [
            "\u001b[0;31m---------------------------------------------------------------------------\u001b[0m",
            "\u001b[0;31mTypeError\u001b[0m                                 Traceback (most recent call last)",
            "\u001b[0;32m<ipython-input-61-6ea2b5231ed2>\u001b[0m in \u001b[0;36m<cell line: 0>\u001b[0;34m()\u001b[0m\n\u001b[1;32m     28\u001b[0m \u001b[0mprint\u001b[0m\u001b[0;34m(\u001b[0m\u001b[0;34m\"list of random numbers:\"\u001b[0m\u001b[0;34m,\u001b[0m\u001b[0mnumbers\u001b[0m\u001b[0;34m)\u001b[0m\u001b[0;34m\u001b[0m\u001b[0;34m\u001b[0m\u001b[0m\n\u001b[1;32m     29\u001b[0m \u001b[0mprint\u001b[0m\u001b[0;34m(\u001b[0m\u001b[0;34m\"even numbers :\"\u001b[0m\u001b[0;34m,\u001b[0m\u001b[0meven_numbers\u001b[0m\u001b[0;34m)\u001b[0m\u001b[0;34m\u001b[0m\u001b[0;34m\u001b[0m\u001b[0m\n\u001b[0;32m---> 30\u001b[0;31m \u001b[0mprint\u001b[0m\u001b[0;34m(\u001b[0m\u001b[0;34m\"count of even numbers\"\u001b[0m\u001b[0;34m,\u001b[0m\u001b[0mlen\u001b[0m\u001b[0;34m(\u001b[0m\u001b[0meven_numbers\u001b[0m\u001b[0;34m)\u001b[0m\u001b[0;34m)\u001b[0m\u001b[0;34m\u001b[0m\u001b[0;34m\u001b[0m\u001b[0m\n\u001b[0m\u001b[1;32m     31\u001b[0m \u001b[0mprint\u001b[0m\u001b[0;34m(\u001b[0m\u001b[0;34m\"odd numbers : \"\u001b[0m\u001b[0;34m,\u001b[0m \u001b[0modd_numbers\u001b[0m\u001b[0;34m)\u001b[0m\u001b[0;34m\u001b[0m\u001b[0;34m\u001b[0m\u001b[0m\n\u001b[1;32m     32\u001b[0m \u001b[0mprint\u001b[0m\u001b[0;34m(\u001b[0m\u001b[0;34m\"count of odd numbers: \"\u001b[0m\u001b[0;34m,\u001b[0m\u001b[0mlen\u001b[0m\u001b[0;34m(\u001b[0m\u001b[0modd_numbers\u001b[0m\u001b[0;34m)\u001b[0m\u001b[0;34m)\u001b[0m\u001b[0;34m\u001b[0m\u001b[0;34m\u001b[0m\u001b[0m\n",
            "\u001b[0;31mTypeError\u001b[0m: 'int' object is not callable"
          ]
        }
      ]
    },
    {
      "cell_type": "markdown",
      "source": [
        "Consider the following two sets, A and B, represenƟng scores of two teams in mulƟple\n",
        "matches. A = {34, 56, 78, 90} and B = {78, 45, 90, 23}\n",
        "WAP to perform the following operaƟons using set funcƟons:\n",
        "i. Find the unique scores achieved by both teams (union of sets).\n",
        "ii. IdenƟfy the scores that are common to both teams (intersecƟon of sets).\n",
        "iii. Find the scores that are exclusive to each team (symmetric difference).\n",
        "iv. Check if the scores of team A are a subset of team B, and if team B's scores are\n",
        "a superset of team A.\n",
        "v. Remove a specific score 𝑋 (input by the user) from set A if it exists. If not, print\n",
        "a message saying it is not present."
      ],
      "metadata": {
        "id": "LKKtJB2faJE0"
      }
    },
    {
      "cell_type": "code",
      "source": [
        "A = {34,56,78,90}\n",
        "B = {78,45,90,23}\n",
        "\n",
        "union_marks = A.union(B)\n",
        "print(\"union scores achieved by both teams :\",union_marks)\n",
        "\n",
        "common_marks = A.intersection(B)\n",
        "print(\"common scores achieved by both teams\",common_marks)\n",
        "\n",
        "symmetric_marks = A.symmetric_difference(B)\n",
        "print(\"scores symmetruc to each other \",symmetric_marks)\n",
        "\n",
        "is_subset = A.issubset(B)\n",
        "is_superset = B.issuperset(A)\n",
        "\n",
        "print(\"team A's scores are a subset of team B\",is_subset)\n",
        "print(\"team B's scores are a superset of team A\",is_superset)\n",
        "\n",
        "W = int(input(\"Enter the score to remove from set A: \"))\n",
        "\n",
        "if W in A:\n",
        "  A.remove(W)\n",
        "  print(\"score\",W,\"removed from set A.\",A)\n",
        "else:\n",
        " print(\"score\",W,\"is not present in set A.\")"
      ],
      "metadata": {
        "id": "mwguM8sPaNGL",
        "outputId": "5d7deb5e-4411-4147-a600-4acbe76bfa60",
        "colab": {
          "base_uri": "https://localhost:8080/"
        }
      },
      "execution_count": null,
      "outputs": [
        {
          "output_type": "stream",
          "name": "stdout",
          "text": [
            "union scores achieved by both teams : {34, 45, 78, 23, 56, 90}\n",
            "common scores achieved by both teams {90, 78}\n",
            "scores symmetruc to each other  {34, 45, 23, 56}\n",
            "team A's scores are a subset of team B False\n",
            "team B's scores are a superset of team A False\n",
            "Enter the score to remove from set A: 34\n",
            "score 34 removed from set A. {56, 90, 78}\n"
          ]
        }
      ]
    },
    {
      "cell_type": "markdown",
      "source": [
        "Consider the following two sets, A and B, represenƟng scores of two teams in mulƟple\n",
        "matches. A = {34, 56, 78, 90} and B = {78, 45, 90, 23}\n",
        "WAP to perform the following operaƟons using set funcƟons:\n",
        "i. Find the unique scores achieved by both teams (union of sets).\n",
        "ii. IdenƟfy the scores that are common to both teams (intersecƟon of sets).\n",
        "iii. Find the scores that are exclusive to each team (symmetric difference).\n",
        "iv. Check if the scores of team A are a subset of team B, and if team B's scores are\n",
        "a superset of team A.\n",
        "v. Remove a specific score 𝑋 (input by the user) from set A if it exists. If not, print\n",
        "a message saying it is not present."
      ],
      "metadata": {
        "id": "HNDdQFjJaSi5"
      }
    },
    {
      "cell_type": "code",
      "source": [
        "sample_dict = {\n",
        "    \"name\": \"cyrush\",\n",
        "    \"age\" : 20,\n",
        "    \"salary\" : 800000,\n",
        "    \"city\" : \"Kathmandu\"\n",
        "}\n",
        "\n",
        "sample_dict[\"location\"] = sample_dict.pop(\"city\")\n",
        "\n",
        "print(sample_dict)"
      ],
      "metadata": {
        "id": "P67fxVKyaW9I",
        "outputId": "824ed7c3-0df0-4d0b-cf19-e45059199328",
        "colab": {
          "base_uri": "https://localhost:8080/"
        }
      },
      "execution_count": null,
      "outputs": [
        {
          "output_type": "stream",
          "name": "stdout",
          "text": [
            "{'name': 'cyrush', 'age': 20, 'salary': 800000, 'location': 'Kathmandu'}\n"
          ]
        }
      ]
    }
  ],
  "metadata": {
    "colab": {
      "toc_visible": true,
      "provenance": [],
      "include_colab_link": true
    },
    "kernelspec": {
      "display_name": "Python 3",
      "name": "python3"
    }
  },
  "nbformat": 4,
  "nbformat_minor": 0
}