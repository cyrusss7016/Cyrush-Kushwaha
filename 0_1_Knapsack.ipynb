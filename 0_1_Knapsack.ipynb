{
  "cells": [
    {
      "cell_type": "markdown",
      "metadata": {
        "id": "view-in-github",
        "colab_type": "text"
      },
      "source": [
        "<a href=\"https://colab.research.google.com/github/cyrusss7016/Cyrush-Kushwaha/blob/main/0_1_Knapsack.ipynb\" target=\"_parent\"><img src=\"https://colab.research.google.com/assets/colab-badge.svg\" alt=\"Open In Colab\"/></a>"
      ]
    },
    {
      "cell_type": "code",
      "source": [
        "#include <iostream>\n",
        "#include <vector>\n",
        "using namespace std;\n",
        "\n",
        "int main() {\n",
        "    int n = 4, W = 7;\n",
        "    int p[] = {5, 3, 8, 6}; // profit\n",
        "    int w[] = {2, 3, 4, 5}; // weight\n",
        "\n",
        "    vector<vector<int>> dp(n+1, vector<int>(W+1, 0));\n",
        "\n",
        "    // build dp table\n",
        "    for (int i = 1; i <= n; i++) {\n",
        "        for (int wt = 0; wt <= W; wt++) {\n",
        "            if (w[i-1] <= wt) {\n",
        "                dp[i][wt] = max(dp[i-1][wt], p[i-1] + dp[i-1][wt - w[i-1]]);\n",
        "            } else {\n",
        "                dp[i][wt] = dp[i-1][wt];\n",
        "            }\n",
        "        }\n",
        "    }\n",
        "\n",
        "    // backtrack to find selected items\n",
        "    int wt = W;\n",
        "    vector<int> items;\n",
        "    for (int i = n; i > 0 && wt > 0; i--) {\n",
        "        if (dp[i][wt] != dp[i-1][wt]) {\n",
        "            items.push_back(i); // 1-based indexing\n",
        "            wt -= w[i-1];\n",
        "        }\n",
        "    }\n",
        "\n",
        "    // output\n",
        "    cout << \"Items selected: \";\n",
        "    for (int i = items.size()-1; i >= 0; i--) {\n",
        "        cout << \"Item \" << items[i];\n",
        "        if (i != 0) cout << \" and \";\n",
        "    }\n",
        "    cout << \"\\nMaximum profit: \" << dp[n][W] << endl;\n",
        "\n",
        "    return 0;\n",
        "}"
      ],
      "metadata": {
        "colab": {
          "base_uri": "https://localhost:8080/",
          "height": 105
        },
        "id": "RIehK0phBjrq",
        "outputId": "2426630f-0459-4d6b-ad29-574c33f15923"
      },
      "execution_count": null,
      "outputs": [
        {
          "output_type": "error",
          "ename": "SyntaxError",
          "evalue": "invalid syntax (<ipython-input-1-3473a6dbd0a6>, line 3)",
          "traceback": [
            "\u001b[0;36m  File \u001b[0;32m\"<ipython-input-1-3473a6dbd0a6>\"\u001b[0;36m, line \u001b[0;32m3\u001b[0m\n\u001b[0;31m    using namespace std;\u001b[0m\n\u001b[0m          ^\u001b[0m\n\u001b[0;31mSyntaxError\u001b[0m\u001b[0;31m:\u001b[0m invalid syntax\n"
          ]
        }
      ]
    },
    {
      "cell_type": "markdown",
      "metadata": {
        "id": "7c7007b8"
      },
      "source": [
        "Here is the Python code to solve the 0/1 knapsack problem and find the selected items:"
      ]
    },
    {
      "cell_type": "code",
      "metadata": {
        "colab": {
          "base_uri": "https://localhost:8080/"
        },
        "id": "ad6cad65",
        "outputId": "c3894c78-3544-4fd6-c77f-cecc10bf6dab"
      },
      "source": [
        "def knapsack(n, W, p, w):\n",
        "    \"\"\"\n",
        "    Solves the 0/1 knapsack problem using dynamic programming and finds the selected items.\n",
        "\n",
        "    Args:\n",
        "        n: Number of items.\n",
        "        W: Maximum weight capacity of the knapsack.\n",
        "        p: List of profits for each item.\n",
        "        w: List of weights for each item.\n",
        "\n",
        "    Returns:\n",
        "        A tuple containing the maximum profit and a list of selected item indices (1-based).\n",
        "    \"\"\"\n",
        "    # Create a DP table to store the maximum profit for each subproblem\n",
        "    dp = [[0 for _ in range(W + 1)] for _ in range(n + 1)]\n",
        "\n",
        "    # Build the DP table\n",
        "    for i in range(1, n + 1):\n",
        "        for wt in range(W + 1):\n",
        "            # If the current item's weight is less than or equal to the current capacity\n",
        "            if w[i - 1] <= wt:\n",
        "                # Choose the maximum profit between including and excluding the current item\n",
        "                dp[i][wt] = max(dp[i - 1][wt], p[i - 1] + dp[i - 1][wt - w[i - 1]])\n",
        "            else:\n",
        "                # If the current item cannot be included, take the profit from the previous state\n",
        "                dp[i][wt] = dp[i - 1][wt]\n",
        "\n",
        "    # Backtrack to find the selected items\n",
        "    selected_items = []\n",
        "    wt = W\n",
        "    for i in range(n, 0, -1):\n",
        "        if dp[i][wt] != dp[i - 1][wt]:\n",
        "            # If the profit is different, the current item was included\n",
        "            selected_items.append(i)\n",
        "            wt -= w[i - 1]\n",
        "\n",
        "    # Return the maximum profit and the list of selected items\n",
        "    return dp[n][W], selected_items\n",
        "\n",
        "# Example usage\n",
        "n = 4\n",
        "W = 7\n",
        "p = [5, 3, 8, 6]  # profit\n",
        "w = [2, 3, 4, 5]  # weight\n",
        "\n",
        "max_profit, items = knapsack(n, W, p, w)\n",
        "\n",
        "# Output\n",
        "print(\"Maximum profit:\", max_profit)\n",
        "print(\"Items selected (1-based indexing):\", sorted(items))"
      ],
      "execution_count": null,
      "outputs": [
        {
          "output_type": "stream",
          "name": "stdout",
          "text": [
            "Maximum profit: 13\n",
            "Items selected (1-based indexing): [1, 3]\n"
          ]
        }
      ]
    }
  ],
  "metadata": {
    "colab": {
      "toc_visible": true,
      "provenance": [],
      "include_colab_link": true
    },
    "kernelspec": {
      "display_name": "Python 3",
      "name": "python3"
    }
  },
  "nbformat": 4,
  "nbformat_minor": 0
}